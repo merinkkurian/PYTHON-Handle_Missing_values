{
 "cells": [
  {
   "cell_type": "code",
   "execution_count": null,
   "id": "52c49c26-7828-4bc6-af02-b3b3b63df2d5",
   "metadata": {},
   "outputs": [],
   "source": [
    "#The process of filling in missing data with average data from the rest of the data set is called imputation. We will now use imputation to fill in the missing data from the Age column.\n",
    "\n",
    "#The most basic form of imputation would be to fill in the missing Age data with the average Age value across the entire data set. However, there are better methods.\n",
    "\n",
    "#We will fill in the missing Age values with the average Age value for the specific Pclass passenger class that the passenger belongs to. To understand why this is useful, consider the following boxplot:"
   ]
  },
  {
   "cell_type": "code",
   "execution_count": 1,
   "id": "e69a806e-d4fd-45ce-a4bd-582182897371",
   "metadata": {},
   "outputs": [
    {
     "name": "stdout",
     "output_type": "stream",
     "text": [
      "     PassengerId  Survived  Pclass  \\\n",
      "0              1         0       3   \n",
      "1              2         1       1   \n",
      "2              3         1       3   \n",
      "3              4         1       1   \n",
      "4              5         0       3   \n",
      "..           ...       ...     ...   \n",
      "886          887         0       2   \n",
      "887          888         1       1   \n",
      "888          889         0       3   \n",
      "889          890         1       1   \n",
      "890          891         0       3   \n",
      "\n",
      "                                                  Name     Sex   Age  SibSp  \\\n",
      "0                              Braund, Mr. Owen Harris    male  22.0      1   \n",
      "1    Cumings, Mrs. John Bradley (Florence Briggs Th...  female  38.0      1   \n",
      "2                               Heikkinen, Miss. Laina  female  26.0      0   \n",
      "3         Futrelle, Mrs. Jacques Heath (Lily May Peel)  female  35.0      1   \n",
      "4                             Allen, Mr. William Henry    male  35.0      0   \n",
      "..                                                 ...     ...   ...    ...   \n",
      "886                              Montvila, Rev. Juozas    male  27.0      0   \n",
      "887                       Graham, Miss. Margaret Edith  female  19.0      0   \n",
      "888           Johnston, Miss. Catherine Helen \"Carrie\"  female   NaN      1   \n",
      "889                              Behr, Mr. Karl Howell    male  26.0      0   \n",
      "890                                Dooley, Mr. Patrick    male  32.0      0   \n",
      "\n",
      "     Parch            Ticket     Fare Cabin Embarked  \n",
      "0        0         A/5 21171   7.2500   NaN        S  \n",
      "1        0          PC 17599  71.2833   C85        C  \n",
      "2        0  STON/O2. 3101282   7.9250   NaN        S  \n",
      "3        0            113803  53.1000  C123        S  \n",
      "4        0            373450   8.0500   NaN        S  \n",
      "..     ...               ...      ...   ...      ...  \n",
      "886      0            211536  13.0000   NaN        S  \n",
      "887      0            112053  30.0000   B42        S  \n",
      "888      2        W./C. 6607  23.4500   NaN        S  \n",
      "889      0            111369  30.0000  C148        C  \n",
      "890      0            370376   7.7500   NaN        Q  \n",
      "\n",
      "[891 rows x 12 columns]\n"
     ]
    }
   ],
   "source": [
    "import pandas as pd\n",
    "\n",
    "import numpy as np\n",
    "\n",
    "import matplotlib.pyplot as plt\n",
    "\n",
    "%matplotlib inline\n",
    "\n",
    "import seaborn as sns\n",
    "train = pd.read_csv('C:/Users/Merin/Desktop/DATA CLEANING/titanic/train.csv')\n",
    "df=pd.DataFrame(train)\n",
    "print (df)"
   ]
  },
  {
   "cell_type": "code",
   "execution_count": 2,
   "id": "41b96459-f5ac-463c-9acf-d95b52c43299",
   "metadata": {},
   "outputs": [
    {
     "name": "stderr",
     "output_type": "stream",
     "text": [
      "C:\\Users\\Merin\\anaconda\\lib\\site-packages\\seaborn\\_decorators.py:36: FutureWarning: Pass the following variables as keyword args: x, y. From version 0.12, the only valid positional argument will be `data`, and passing other arguments without an explicit keyword will result in an error or misinterpretation.\n",
      "  warnings.warn(\n"
     ]
    },
    {
     "data": {
      "text/plain": [
       "<AxesSubplot:xlabel='Pclass', ylabel='Age'>"
      ]
     },
     "execution_count": 2,
     "metadata": {},
     "output_type": "execute_result"
    },
    {
     "data": {
      "image/png": "[encoded data removed]",
      "text/plain": [
       "<Figure size 432x288 with 1 Axes>"
      ]
     },
     "metadata": {
      "needs_background": "light"
     },
     "output_type": "display_data"
    }
   ],
   "source": [
    "sns.boxplot(df['Pclass'], df['Age'])\n",
    "#assign each class for each ages, pclasss=1, are the most aged people"
   ]
  },
  {
   "cell_type": "code",
   "execution_count": 5,
   "id": "0fe82853-b2fc-4f2b-81b3-3b4315176662",
   "metadata": {},
   "outputs": [
    {
     "data": {
      "text/plain": [
       "38.233440860215055"
      ]
     },
     "execution_count": 5,
     "metadata": {},
     "output_type": "execute_result"
    }
   ],
   "source": [
    "#Pclass value 1, find the average for pclass=1\n",
    "\n",
    "df[df['Pclass'] == 1]['Age'].mean()\n",
    "\n"
   ]
  },
  {
   "cell_type": "code",
   "execution_count": 6,
   "id": "320811f4-35e8-4717-b667-1f720c130716",
   "metadata": {},
   "outputs": [
    {
     "data": {
      "text/plain": [
       "29.87763005780347"
      ]
     },
     "execution_count": 6,
     "metadata": {},
     "output_type": "execute_result"
    }
   ],
   "source": [
    "#Pclass value 2\n",
    "\n",
    "df[df['Pclass'] == 2]['Age'].mean()\n",
    "\n"
   ]
  },
  {
   "cell_type": "code",
   "execution_count": 8,
   "id": "00a68440-7b75-4895-9fb7-e725ccb22e43",
   "metadata": {},
   "outputs": [
    {
     "data": {
      "text/plain": [
       "25.14061971830986"
      ]
     },
     "execution_count": 8,
     "metadata": {},
     "output_type": "execute_result"
    }
   ],
   "source": [
    "#Pclass 3\n",
    "\n",
    "df[df['Pclass'] == 3]['Age'].mean()"
   ]
  },
  {
   "cell_type": "code",
   "execution_count": 14,
   "id": "9b8f627f-4571-4862-9011-befd5edd0918",
   "metadata": {},
   "outputs": [],
   "source": [
    "def impute_missing_age(columns):\n",
    "\n",
    "    age = columns[0]\n",
    "\n",
    "    passenger_class = columns[1]\n",
    "\n",
    "    if pd.isnull(age):\n",
    "\n",
    "        if(passenger_class == 1):\n",
    "\n",
    "            return df[df['Pclass'] == 1]['Age'].mean()\n",
    "\n",
    "        elif(passenger_class == 2):\n",
    "\n",
    "            return df[df['Pclass'] == 2]['Age'].mean()\n",
    "\n",
    "        elif(passenger_class == 3):\n",
    "\n",
    "            return df[df['Pclass'] == 3]['Age'].mean()    \n",
    "\n",
    "    else:\n",
    "\n",
    "        return age"
   ]
  },
  {
   "cell_type": "code",
   "execution_count": 15,
   "id": "d48b0a42-816e-4c18-bf3b-89d0a3f90dee",
   "metadata": {},
   "outputs": [],
   "source": [
    "df['Age'] = df[['Age', 'Pclass']].apply(impute_missing_age, axis = 1)\n",
    "#apply every row in the dataframe using apply method"
   ]
  },
  {
   "cell_type": "code",
   "execution_count": 16,
   "id": "8912cafb-3829-4349-820d-ee9b17c22c2a",
   "metadata": {},
   "outputs": [
    {
     "data": {
      "text/plain": [
       "PassengerId      0\n",
       "Survived         0\n",
       "Pclass           0\n",
       "Name             0\n",
       "Sex              0\n",
       "Age              0\n",
       "SibSp            0\n",
       "Parch            0\n",
       "Ticket           0\n",
       "Fare             0\n",
       "Cabin          687\n",
       "Embarked         2\n",
       "dtype: int64"
      ]
     },
     "execution_count": 16,
     "metadata": {},
     "output_type": "execute_result"
    }
   ],
   "source": [
    "#verify any missing data in age column\n",
    "df.isnull().sum()"
   ]
  },
  {
   "cell_type": "code",
   "execution_count": null,
   "id": "4eaeb9ea-84f3-4a08-a91b-a4c7279a7940",
   "metadata": {},
   "outputs": [],
   "source": [
    "#remove cabin coloumn that have too much misiing value\n",
    "df.dropna('Cabin', axis=1, inplace = True)\n",
    "df.dropna(inplace = True)\n",
    "df.isnull().sum()"
   ]
  },
  {
   "cell_type": "code",
   "execution_count": 20,
   "id": "68e6b93f-4da1-4283-9186-e102841fd49d",
   "metadata": {},
   "outputs": [],
   "source": [
    "#handle categorical colounm like sex and embarked using dummy,hese assign a numerical value to each category of a non-numerical feature\n",
    "#The get_dummies method does have one issue - it will create a new column for each value in the DataFrame column.\n",
    "#This is called multicollinearity and it significantly reduces the predictive power of your algorithm.\n",
    "#To remove this, we can add the argument drop_first = True to the get_dummies method like this:\n",
    "\n",
    "\n",
    "#create regression model\n",
    "sex_data=pd.get_dummies(df[\"Sex\"],drop_first=True)\n",
    "embarked_data = pd.get_dummies(df['Embarked'], drop_first = True)"
   ]
  },
  {
   "cell_type": "code",
   "execution_count": 24,
   "id": "ec297d84-c961-4dfc-8c7b-0fd46580a5cc",
   "metadata": {},
   "outputs": [],
   "source": [
    "#Adding Dummy Variables to the pandas DataFrame\n",
    "#Next we need to add our new sex and embarked columns to the DataFrame.\n",
    "#You can concatenate these data columns into the existing pandas DataFrame with the following code:\n",
    "df = pd.concat([df, sex_data, embarked_data], axis = 1)"
   ]
  },
  {
   "cell_type": "code",
   "execution_count": 25,
   "id": "b8c3c42c-ca6a-4cf7-8339-d1beaf847253",
   "metadata": {},
   "outputs": [
    {
     "name": "stdout",
     "output_type": "stream",
     "text": [
      "Index(['PassengerId', 'Survived', 'Pclass', 'Name', 'Sex', 'Age', 'SibSp',\n",
      "       'Parch', 'Ticket', 'Fare', 'Embarked', 'male', 'Q', 'S'],\n",
      "      dtype='object')\n"
     ]
    }
   ],
   "source": [
    "print(df.columns)"
   ]
  },
  {
   "cell_type": "code",
   "execution_count": 27,
   "id": "847eb54a-daa8-445e-af9f-17a2a38e7268",
   "metadata": {},
   "outputs": [
    {
     "name": "stdout",
     "output_type": "stream",
     "text": [
      "Index(['PassengerId', 'Survived', 'Pclass', 'Age', 'SibSp', 'Parch', 'Fare',\n",
      "       'male', 'Q', 'S'],\n",
      "      dtype='object')\n"
     ]
    }
   ],
   "source": [
    "#remove unwanted colsm\n",
    "df.drop(['Name', 'Ticket', 'Sex', 'Embarked'], axis = 1, inplace = True)\n",
    "print(df.columns)"
   ]
  },
  {
   "cell_type": "code",
   "execution_count": 28,
   "id": "ba0867b1-b4ee-465c-9321-5e8d02a4b287",
   "metadata": {},
   "outputs": [
    {
     "name": "stdout",
     "output_type": "stream",
     "text": [
      "     PassengerId  Survived  Pclass       Age  SibSp  Parch     Fare  male  Q  \\\n",
      "0              1         0       3  22.00000      1      0   7.2500     1  0   \n",
      "1              2         1       1  38.00000      1      0  71.2833     0  0   \n",
      "2              3         1       3  26.00000      0      0   7.9250     0  0   \n",
      "3              4         1       1  35.00000      1      0  53.1000     0  0   \n",
      "4              5         0       3  35.00000      0      0   8.0500     1  0   \n",
      "..           ...       ...     ...       ...    ...    ...      ...   ... ..   \n",
      "886          887         0       2  27.00000      0      0  13.0000     1  0   \n",
      "887          888         1       1  19.00000      0      0  30.0000     0  0   \n",
      "888          889         0       3  25.14062      1      2  23.4500     0  0   \n",
      "889          890         1       1  26.00000      0      0  30.0000     1  0   \n",
      "890          891         0       3  32.00000      0      0   7.7500     1  1   \n",
      "\n",
      "     S  \n",
      "0    1  \n",
      "1    0  \n",
      "2    1  \n",
      "3    1  \n",
      "4    1  \n",
      "..  ..  \n",
      "886  1  \n",
      "887  1  \n",
      "888  1  \n",
      "889  0  \n",
      "890  0  \n",
      "\n",
      "[891 rows x 10 columns]\n"
     ]
    }
   ],
   "source": [
    " #everthig is numerical now\n",
    "print(df)"
   ]
  },
  {
   "cell_type": "code",
   "execution_count": 30,
   "id": "0e6b9122-b8d5-4023-b58b-f0973fef7c18",
   "metadata": {},
   "outputs": [],
   "source": [
    "#create training and etsting data\n",
    "#divide our data into x values (the data we will be using to make predictions) and y values (the data we are attempting to predict). The following code handles this:\n",
    "x_data=df['Survived']\n",
    "y_data=df.drop('Survived',axis = 1)"
   ]
  },
  {
   "cell_type": "code",
   "execution_count": 31,
   "id": "78f8ec4c-dba7-41a0-8670-6b4001b991e1",
   "metadata": {},
   "outputs": [],
   "source": [
    "from sklearn.model_selection import train_test_split"
   ]
  },
  {
   "cell_type": "code",
   "execution_count": 42,
   "id": "d9d184af-fc48-4775-b72f-eda2cad935be",
   "metadata": {},
   "outputs": [
    {
     "name": "stdout",
     "output_type": "stream",
     "text": [
      "465    0\n",
      "11     1\n",
      "50     0\n",
      "312    0\n",
      "648    0\n",
      "      ..\n",
      "372    0\n",
      "713    0\n",
      "644    1\n",
      "861    0\n",
      "53     1\n",
      "Name: Survived, Length: 623, dtype: int64\n",
      "495    0\n",
      "840    0\n",
      "219    0\n",
      "220    1\n",
      "597    0\n",
      "      ..\n",
      "566    0\n",
      "491    0\n",
      "643    1\n",
      "116    0\n",
      "294    0\n",
      "Name: Survived, Length: 268, dtype: int64\n",
      "     PassengerId  Pclass       Age  SibSp  Parch     Fare  male  Q  S\n",
      "465          466       3  38.00000      0      0   7.0500     1  0  1\n",
      "11            12       1  58.00000      0      0  26.5500     0  0  1\n",
      "50            51       3   7.00000      4      1  39.6875     1  0  1\n",
      "312          313       2  26.00000      1      1  26.0000     0  0  1\n",
      "648          649       3  25.14062      0      0   7.5500     1  0  1\n",
      "..           ...     ...       ...    ...    ...      ...   ... .. ..\n",
      "372          373       3  19.00000      0      0   8.0500     1  0  1\n",
      "713          714       3  29.00000      0      0   9.4833     1  0  1\n",
      "644          645       3   0.75000      2      1  19.2583     0  0  0\n",
      "861          862       2  21.00000      1      0  11.5000     1  0  1\n",
      "53            54       2  29.00000      1      0  26.0000     0  0  1\n",
      "\n",
      "[623 rows x 9 columns]\n",
      "     PassengerId  Pclass       Age  SibSp  Parch     Fare  male  Q  S\n",
      "495          496       3  25.14062      0      0  14.4583     1  0  0\n",
      "840          841       3  20.00000      0      0   7.9250     1  0  1\n",
      "219          220       2  30.00000      0      0  10.5000     1  0  1\n",
      "220          221       3  16.00000      0      0   8.0500     1  0  1\n",
      "597          598       3  49.00000      0      0   0.0000     1  0  1\n",
      "..           ...     ...       ...    ...    ...      ...   ... .. ..\n",
      "566          567       3  19.00000      0      0   7.8958     1  0  1\n",
      "491          492       3  21.00000      0      0   7.2500     1  0  1\n",
      "643          644       3  25.14062      0      0  56.4958     1  0  1\n",
      "116          117       3  70.50000      0      0   7.7500     1  1  0\n",
      "294          295       3  24.00000      0      0   7.8958     1  0  1\n",
      "\n",
      "[268 rows x 9 columns]\n"
     ]
    }
   ],
   "source": [
    "#using trainsplit data function generate tarining and testing data with 30% of test data\n",
    "x_training_data, x_test_data, y_training_data, y_test_data = train_test_split(x_data, y_data, test_size = 0.3)\n",
    "print(x_training_data)\n",
    "print(x_test_data)\n",
    "print(y_training_data)\n",
    "print(y_test_data)"
   ]
  },
  {
   "cell_type": "code",
   "execution_count": 47,
   "id": "6fae7a82-9471-40c9-aec0-113fafa185b6",
   "metadata": {},
   "outputs": [
    {
     "name": "stdout",
     "output_type": "stream",
     "text": [
      "              precision    recall  f1-score   support\n",
      "\n",
      "           0       0.80      0.91      0.85       161\n",
      "           1       0.83      0.65      0.73       107\n",
      "\n",
      "    accuracy                           0.81       268\n",
      "   macro avg       0.82      0.78      0.79       268\n",
      "weighted avg       0.81      0.81      0.80       268\n",
      "\n",
      "[[147  14]\n",
      " [ 37  70]]\n"
     ]
    },
    {
     "name": "stderr",
     "output_type": "stream",
     "text": [
      "C:\\Users\\Merin\\anaconda\\lib\\site-packages\\sklearn\\linear_model\\_logistic.py:814: ConvergenceWarning: lbfgs failed to converge (status=1):\n",
      "STOP: TOTAL NO. of ITERATIONS REACHED LIMIT.\n",
      "\n",
      "Increase the number of iterations (max_iter) or scale the data as shown in:\n",
      "    https://scikit-learn.org/stable/modules/preprocessing.html\n",
      "Please also refer to the documentation for alternative solver options:\n",
      "    https://scikit-learn.org/stable/modules/linear_model.html#logistic-regression\n",
      "  n_iter_i = _check_optimize_result(\n"
     ]
    }
   ],
   "source": [
    "y_data = df['Survived']\n",
    "\n",
    "x_data = df.drop('Survived', axis = 1)\n",
    "\n",
    "#Split the data set into training data and test data\n",
    "\n",
    "from sklearn.model_selection import train_test_split\n",
    "\n",
    "x_training_data, x_test_data, y_training_data, y_test_data = train_test_split(x_data, y_data, test_size = 0.3)\n",
    "\n",
    "#Create the model\n",
    "\n",
    "from sklearn.linear_model import LogisticRegression\n",
    "\n",
    "model = LogisticRegression()\n",
    "\n",
    "#Train the model and create predictions\n",
    "\n",
    "model.fit(x_training_data, y_training_data)\n",
    "\n",
    "predictions = model.predict(x_test_data)\n",
    "\n",
    "#Calculate performance metrics\n",
    "\n",
    "from sklearn.metrics import classification_report\n",
    "\n",
    "print(classification_report(y_test_data, predictions))\n",
    "\n",
    "#Generate a confusion matrix\n",
    "\n",
    "from sklearn.metrics import confusion_matrix\n",
    "\n",
    "print(confusion_matrix(y_test_data, predictions))"
   ]
  },
  {
   "cell_type": "code",
   "execution_count": 48,
   "id": "46f41063-6c2d-4c97-8599-c647539a6597",
   "metadata": {},
   "outputs": [
    {
     "data": {
      "text/plain": [
       "PassengerId    0\n",
       "Survived       0\n",
       "Pclass         0\n",
       "Age            0\n",
       "SibSp          0\n",
       "Parch          0\n",
       "Fare           0\n",
       "male           0\n",
       "Q              0\n",
       "S              0\n",
       "dtype: int64"
      ]
     },
     "execution_count": 48,
     "metadata": {},
     "output_type": "execute_result"
    }
   ],
   "source": [
    "df.isnull().sum() #to chevk any null values"
   ]
  },
  {
   "cell_type": "code",
   "execution_count": null,
   "id": "dff8fee1-dabc-42e4-8408-38587ec9c311",
   "metadata": {},
   "outputs": [],
   "source": [
    "#Pros:\n",
    "\n",
    "#Gives a better result than earlier methods\n",
    "#Takes into account the covariance between the missing value column and other columns.\n",
    "#Cons:\n",
    "\n",
    "#Considered only as a proxy for the true values"
   ]
  }
 ],
 "metadata": {
  "kernelspec": {
   "display_name": "Python 3 (ipykernel)",
   "language": "python",
   "name": "python3"
  },
  "language_info": {
   "codemirror_mode": {
    "name": "ipython",
    "version": 3
   },
   "file_extension": ".py",
   "mimetype": "text/x-python",
   "name": "python",
   "nbconvert_exporter": "python",
   "pygments_lexer": "ipython3",
   "version": "3.9.12"
  }
 },
 "nbformat": 4,
 "nbformat_minor": 5
}
