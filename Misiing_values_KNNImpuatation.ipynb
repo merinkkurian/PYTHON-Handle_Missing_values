{
 "cells": [
  {
   "cell_type": "code",
   "execution_count": null,
   "id": "addf392d-df8c-4de4-8dc9-e13b4134f03b",
   "metadata": {},
   "outputs": [],
   "source": [
    " #kNN Imputation on sex column\n",
    "#Measures the distance between the new sample and the N closest samples(as specified by the n_neighbours parameter)\n",
    "#Based on its closest neighbour(s), it will take the mean value of the N closest non-null neighbors to the missing value.\n"
   ]
  },
  {
   "cell_type": "code",
   "execution_count": 1,
   "id": "3e971144-84d0-40fc-87a2-cf18ae97ca51",
   "metadata": {},
   "outputs": [],
   "source": [
    "import pandas as pd\n",
    "import numpy as np\n",
    "from sklearn.impute import KNNImputer\n",
    "df = pd.read_csv('https://raw.githubusercontent.com/datasciencedojo/datasets/master/titanic.csv')"
   ]
  },
  {
   "cell_type": "code",
   "execution_count": 2,
   "id": "f66cf803-af26-4fd7-86c3-a4ebb052aaae",
   "metadata": {},
   "outputs": [
    {
     "data": {
      "text/plain": [
       "PassengerId      0\n",
       "Survived         0\n",
       "Pclass           0\n",
       "Name             0\n",
       "Sex              0\n",
       "Age            177\n",
       "SibSp            0\n",
       "Parch            0\n",
       "Ticket           0\n",
       "Fare             0\n",
       "Cabin          687\n",
       "Embarked         2\n",
       "dtype: int64"
      ]
     },
     "execution_count": 2,
     "metadata": {},
     "output_type": "execute_result"
    }
   ],
   "source": [
    "df.isnull().sum()"
   ]
  },
  {
   "cell_type": "code",
   "execution_count": 3,
   "id": "f4e210ba-15f2-4b5a-96a2-a4dfdfb19cae",
   "metadata": {},
   "outputs": [],
   "source": [
    "#Using this method, we can see what values need to be imputed.\n",
    "df = df.drop(['PassengerId','Name'],axis=1)\n",
    "df = df[[\"Survived\", \"Pclass\", \"Sex\", \"SibSp\", \"Parch\", \"Fare\", \"Age\"]]\n",
    "df[\"Sex\"] = [1 if x==\"male\" else 0 for x in df[\"Sex\"]]\n",
    "#Here, we drop some unneeded features and quickly One-hot-encode our Sex feature."
   ]
  },
  {
   "cell_type": "code",
   "execution_count": 4,
   "id": "6eed9487-39df-46b4-b54a-121217f1e976",
   "metadata": {},
   "outputs": [
    {
     "data": {
      "text/plain": [
       "KNNImputer()"
      ]
     },
     "execution_count": 4,
     "metadata": {},
     "output_type": "execute_result"
    }
   ],
   "source": [
    "imputer = KNNImputer(n_neighbors=5)\n",
    "imputer.fit(df)"
   ]
  },
  {
   "cell_type": "code",
   "execution_count": 5,
   "id": "b898735d-4c3e-435d-a6e9-3beb3801ffe7",
   "metadata": {},
   "outputs": [
    {
     "data": {
      "text/plain": [
       "array([[ 0.    ,  3.    ,  1.    , ...,  0.    ,  7.25  , 22.    ],\n",
       "       [ 1.    ,  1.    ,  0.    , ...,  0.    , 71.2833, 38.    ],\n",
       "       [ 1.    ,  3.    ,  0.    , ...,  0.    ,  7.925 , 26.    ],\n",
       "       ...,\n",
       "       [ 0.    ,  3.    ,  0.    , ...,  2.    , 23.45  , 26.8   ],\n",
       "       [ 1.    ,  1.    ,  1.    , ...,  0.    , 30.    , 26.    ],\n",
       "       [ 0.    ,  3.    ,  1.    , ...,  0.    ,  7.75  , 32.    ]])"
      ]
     },
     "execution_count": 5,
     "metadata": {},
     "output_type": "execute_result"
    }
   ],
   "source": [
    "imputer.transform(df)"
   ]
  },
  {
   "cell_type": "code",
   "execution_count": 6,
   "id": "f2e364bd-319f-4bad-a251-ab622c6c20f1",
   "metadata": {},
   "outputs": [
    {
     "data": {
      "text/plain": [
       "Survived      0\n",
       "Pclass        0\n",
       "Sex           0\n",
       "SibSp         0\n",
       "Parch         0\n",
       "Fare          0\n",
       "Age         177\n",
       "dtype: int64"
      ]
     },
     "execution_count": 6,
     "metadata": {},
     "output_type": "execute_result"
    }
   ],
   "source": [
    "df.isnull().sum()"
   ]
  },
  {
   "cell_type": "code",
   "execution_count": null,
   "id": "58563b72-2883-49d1-8b0c-0d65b16992d9",
   "metadata": {},
   "outputs": [],
   "source": [
    "#Advantages of the KNNImputer:\n",
    "#Can be much more accurate than the mean, median or the mode(It depends on the dataset).\n",
    "#Disadvantages of the KNNImputer:\n",
    "#Computationally expensive, as it stores in the entire dataset in memory.\n",
    "#Is quite sensitive to outliers, so imputed values may cause the model to not perform as well as possible.\n",
    "#You have to specify the number of neighbors"
   ]
  }
 ],
 "metadata": {
  "kernelspec": {
   "display_name": "Python 3 (ipykernel)",
   "language": "python",
   "name": "python3"
  },
  "language_info": {
   "codemirror_mode": {
    "name": "ipython",
    "version": 3
   },
   "file_extension": ".py",
   "mimetype": "text/x-python",
   "name": "python",
   "nbconvert_exporter": "python",
   "pygments_lexer": "ipython3",
   "version": "3.9.12"
  }
 },
 "nbformat": 4,
 "nbformat_minor": 5
}
